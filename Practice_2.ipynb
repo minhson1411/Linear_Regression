{
 "cells": [
  {
   "cell_type": "markdown",
   "id": "b621c6ec-e927-44fe-8288-12669bd6d8e6",
   "metadata": {},
   "source": [
    "# Bài tập thực hành 2 "
   ]
  },
  {
   "cell_type": "markdown",
   "id": "6a46fa48-faca-48c4-ad31-686ffeecb940",
   "metadata": {},
   "source": [
    "## Yêu cầu"
   ]
  },
  {
   "cell_type": "markdown",
   "id": "a2be44ff-6778-4b38-abec-9368486f2875",
   "metadata": {
    "tags": []
   },
   "source": [
    "Dự đoán doanh thu xe hơi Hyundai dòng Elantra trong năm 2013 và đầu 2014, dựa vào dữ liệu trước đó"
   ]
  },
  {
   "cell_type": "markdown",
   "id": "14969f49-9a04-4588-862c-6fadb2339d77",
   "metadata": {},
   "source": [
    "## Dữ liệu\n",
    "\n",
    "Dữ liệu được ghi trong file elantra.csv với các trường (Month, Year, ElantraSales, Unemployment, Queries, CPI_energy, CPI_all). Giá trị cần dự đoán sẽ là ElantraSales."
   ]
  },
  {
   "cell_type": "markdown",
   "id": "80abdf61-65fc-43ea-b5ee-f27164e9ee8c",
   "metadata": {},
   "source": [
    "## Đánh giá\n",
    "\n",
    "Đánh giá mô hình dựa trên \n",
    "* Độ đo tiêu chuẩn của ML: RMSE = $\\sqrt{\\text{avg}\\left(y^{\\left(n\\right)}-\\hat{y}^{\\left(n\\right)}\\right)^{2}}$\n",
    "* Độ đo của business requirements: Mean relative errors = $\\text{avg}\\left(\\dfrac{\\left|y^{\\left(n\\right)}-\\hat{y}^{\\left(n\\right)}\\right|}{y^{\\left(n\\right)}}\\right)\\times100\\%$"
   ]
  },
  {
   "cell_type": "markdown",
   "id": "706456a2-2bc8-4fd0-b036-2c7daa519744",
   "metadata": {},
   "source": [
    "# Đọc dữ liệu"
   ]
  },
  {
   "cell_type": "code",
   "execution_count": null,
   "id": "fcf56fe2-d990-46d4-8069-b9e447a3c836",
   "metadata": {},
   "outputs": [],
   "source": [
    "import pandas as pd\n",
    "import numpy as np  # thư viện cho tính toán nói chung\n",
    "\n",
    "df = pd.read_csv('elantra.csv')"
   ]
  },
  {
   "cell_type": "code",
   "execution_count": null,
   "id": "768df695-da52-4079-9b4f-c0127ba9467c",
   "metadata": {},
   "outputs": [],
   "source": [
    "df.tail(10)"
   ]
  },
  {
   "cell_type": "code",
   "execution_count": null,
   "id": "a9a21a8e-e14a-431e-93a5-d625daedfd68",
   "metadata": {},
   "outputs": [],
   "source": [
    "##### exercise #####\n",
    "# Yêu cầu: Sắp xếp lại thứ tự các hàng dữ liệu theo tháng/năm\n",
    "# Gợi ý: sử dụng df.sort_values và df.reset_index\n",
    "######################"
   ]
  },
  {
   "cell_type": "code",
   "execution_count": null,
   "id": "e7e4924b-15ae-4bf3-ab04-c73f4f6ebb95",
   "metadata": {},
   "outputs": [],
   "source": [
    "import matplotlib.pyplot as plt\n",
    "\n",
    "plt.figure(figsize=(9,6))\n",
    " \n",
    "plt.plot(df.ElantraSales.values)\n",
    " \n",
    "plt.xlabel('Time index')\n",
    "\n",
    "plt.ylabel('Sales')\n",
    " \n",
    " \n",
    "# function to show the plot\n",
    "plt.show()"
   ]
  },
  {
   "cell_type": "code",
   "execution_count": null,
   "id": "b40e4f2c-975c-4aba-8378-2476d7c169fd",
   "metadata": {},
   "outputs": [],
   "source": [
    "numeric_feats = df.columns.drop([\"ElantraSales\", \"Month\", \"Year\"]) \n",
    "numeric_feats"
   ]
  },
  {
   "cell_type": "code",
   "execution_count": null,
   "id": "2658fdbd-ee9f-4480-9a66-df119979ee20",
   "metadata": {},
   "outputs": [],
   "source": [
    "df_train = df[df.Year < 2013]\n",
    "df_test = df[df.Year >= 2013]\n",
    "\n",
    "y_train = df_train.ElantraSales.values\n",
    "y_test = df_test.ElantraSales.values"
   ]
  },
  {
   "cell_type": "markdown",
   "id": "5ddaf36b-848b-46a6-b23e-4243e31f531b",
   "metadata": {},
   "source": [
    "**feature scaling**"
   ]
  },
  {
   "cell_type": "code",
   "execution_count": null,
   "id": "a1089e1e-b170-4382-b12d-0b8b4c2173cf",
   "metadata": {},
   "outputs": [],
   "source": [
    "# Chuẩn hóa dữ liệu bằng StandardScaler, dữ liệu được chuẩn hóa theo dạng x -> (x-mean)/std \n",
    "# Nếu x có phân phối Gauss, dữ liệu chuẩn hóa sẽ thuộc phân phối N(0,1)\n",
    "from sklearn.preprocessing import StandardScaler\n",
    "\n",
    "scaler = StandardScaler().fit(df_train[numeric_feats])\n",
    "\n",
    "X_train = scaler.transform(df_train[numeric_feats])\n",
    "X_test = scaler.transform(df_test[numeric_feats])"
   ]
  },
  {
   "cell_type": "markdown",
   "id": "37715735-b537-485c-8f6e-aa8361488cec",
   "metadata": {},
   "source": [
    "# Xây dựng Mô hình"
   ]
  },
  {
   "cell_type": "code",
   "execution_count": null,
   "id": "deddfe16-d873-406f-8f2b-66f2ae675969",
   "metadata": {},
   "outputs": [],
   "source": [
    "###### exercise #####\n",
    "# Yêu cầu: Xây dựng và huấn luyện mô hình Linear Regression\n",
    "# Gợi ý: sử dụng hàm fit() như trong bài thực hành 1\n",
    "######################"
   ]
  },
  {
   "cell_type": "markdown",
   "id": "0d6dde32-0257-4542-b6cb-0b9d82833048",
   "metadata": {},
   "source": [
    "# Đánh giá"
   ]
  },
  {
   "cell_type": "code",
   "execution_count": null,
   "id": "9d163fa8-9309-40fb-b435-444beb295c84",
   "metadata": {},
   "outputs": [],
   "source": [
    "from sklearn.metrics import mean_squared_error\n",
    "\n",
    "def relative_error(y_true, y_pred):\n",
    "    errors = np.abs(y_pred - y_true).astype(float) / y_true\n",
    "    return np.mean(errors)*100"
   ]
  },
  {
   "cell_type": "code",
   "execution_count": null,
   "id": "2899d591-f9c6-4c40-b126-ef1d1660eb1c",
   "metadata": {},
   "outputs": [],
   "source": [
    "y_pred_test = model1.predict(X_test)\n",
    "print ('RMSE: {:.2f}'.format(np.sqrt(mean_squared_error(y_test, y_pred_test))))\n",
    "print ('Mean relative errors: {:.1f}%'.format(relative_error(y_test, y_pred_test)))"
   ]
  },
  {
   "cell_type": "code",
   "execution_count": null,
   "id": "ba545a96-a97e-483c-a31c-7fee063f479e",
   "metadata": {
    "tags": []
   },
   "outputs": [],
   "source": [
    "###### exercise #####\n",
    "# Yêu cầu: Vẽ biểu đồ đường so sánh y_test và y_pred_test\n",
    "# Gợi ý: sử dụng matplotlib như bài thực hành 1\n",
    "######################"
   ]
  },
  {
   "cell_type": "markdown",
   "id": "e4e7b12e-d073-46ec-bf04-33cd7b6c3da7",
   "metadata": {},
   "source": [
    "Kết quả dự đoán không khớp một chút nào so với dữ liệu thật\n",
    "\n",
    "Lý do có thể là vì chúng ta chưa tận dụng hết thông tin của dữ liệu\n",
    "\n",
    "Quan sát thấy doanh thu có xu hướng biến động theo từ tháng trong một năm\n",
    "\n",
    "=> Tận dụng thông tin tháng hiệu quả. Có thể xây dựng mô hình regression với đặc trưng Month theo kiểu categorical kết hợp với các đặc trưng khác."
   ]
  },
  {
   "cell_type": "markdown",
   "id": "74c08d87-c460-4821-96fe-28c3d269704c",
   "metadata": {},
   "source": [
    "# Giải pháp cải tiến"
   ]
  },
  {
   "cell_type": "code",
   "execution_count": null,
   "id": "4725ca58-e860-4790-b071-27efc7b714db",
   "metadata": {},
   "outputs": [],
   "source": [
    "month_onehot_train = pd.get_dummies(df_train.Month)\n",
    "month_onehot_train.head()"
   ]
  },
  {
   "cell_type": "code",
   "execution_count": null,
   "id": "8640eb1c-a9f5-4f6b-9e68-4732c1d785cf",
   "metadata": {},
   "outputs": [],
   "source": [
    "###### exercise #####\n",
    "# Yêu cầu: Ghép đặc trưng Month_1, ..., Month_12 vào các đặc trưng đang có, kết quả ở dạng numpy array\n",
    "# Gợi ý: sử dụng np.hstack\n",
    "######################"
   ]
  },
  {
   "cell_type": "code",
   "execution_count": null,
   "id": "15ecc731-9222-48f3-89a4-3b82b7a89ea6",
   "metadata": {},
   "outputs": [],
   "source": [
    "# Tương tự với X_test\n",
    "X_test = np.hstack((X_test, pd.get_dummies(df_test.Month)))"
   ]
  },
  {
   "cell_type": "code",
   "execution_count": null,
   "id": "2f16fa13-c6fd-4849-8f22-46f5bb903c8c",
   "metadata": {},
   "outputs": [],
   "source": [
    "model1.fit(X_train, y_train)"
   ]
  },
  {
   "cell_type": "code",
   "execution_count": null,
   "id": "205642ee-8d3d-4435-805a-449f93bde132",
   "metadata": {},
   "outputs": [],
   "source": [
    "y_pred_test = model1.predict(X_test)\n",
    "print ('RMSE: {:.2f}'.format(np.sqrt(mean_squared_error(y_test, y_pred_test))))\n",
    "print ('Mean relative errors: {:.1f}%'.format(relative_error(y_test, y_pred_test)))"
   ]
  },
  {
   "cell_type": "code",
   "execution_count": null,
   "id": "99b73e09-3c87-428d-8625-5599a7ca4047",
   "metadata": {},
   "outputs": [],
   "source": [
    "plt.figure(figsize=(9,6))\n",
    " \n",
    "plt.plot(y_test)\n",
    "plt.plot(y_pred_test)\n",
    " \n",
    "plt.xlabel('Time index')\n",
    "\n",
    "plt.ylabel('Sales')\n",
    " \n",
    " \n",
    "# function to show the plot\n",
    "plt.show()"
   ]
  }
 ],
 "metadata": {
  "kernelspec": {
   "display_name": "Python 3",
   "language": "python",
   "name": "python3"
  },
  "language_info": {
   "codemirror_mode": {
    "name": "ipython",
    "version": 3
   },
   "file_extension": ".py",
   "mimetype": "text/x-python",
   "name": "python",
   "nbconvert_exporter": "python",
   "pygments_lexer": "ipython3",
   "version": "3.8.8"
  }
 },
 "nbformat": 4,
 "nbformat_minor": 5
}
