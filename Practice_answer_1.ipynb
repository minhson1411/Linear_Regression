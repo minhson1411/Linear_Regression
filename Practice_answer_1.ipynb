{
 "cells": [
  {
   "cell_type": "markdown",
   "metadata": {},
   "source": [
    "# Bài thực hành 1\n",
    "\n",
    "## Vấn đề \n",
    "_Dự đoán khả năng tiến triển của bệnh tiểu đường thông qua các chỉ số sinh lý của cơ thể._\n",
    "\n",
    "\n",
    "## Thông tin dữ liệu:\n",
    "\n",
    "- Số lượng mẫu: 442 (thông tin từ 442 bệnh nhân)\n",
    "- Số lượng thuộc tính:\n",
    "    Thông tin các thuộc tính (10 cột giá trị đầu tiên): Age(tuổi), Sex (giới tính), \n",
    "    Body mass index (chỉ số khối cơ thể), Average blood pressure(huyết ap trung bình), S1, S2, S3, S4, S5, S6 (sáu phép đo huyết thanh khác).\n",
    "- Mục tiêu:\tCột 11, chỉ số đánh giá mức độ tiến triển của bệnh 1 năm sau khi điều trị. \n",
    "\n",
    "**! Chú ý: Dữ liệu thông tin thuộc tính đã được chuẩn hoá**\n",
    "\n",
    "Xem thêm thông tin về nguồn dữ liệu tại: (https://www4.stat.ncsu.edu/~boos/var.select/diabetes.html)\n"
   ]
  },
  {
   "cell_type": "markdown",
   "metadata": {},
   "source": [
    "# Hướng giải quyết\n",
    "\n",
    "Giả sử rằng khả năng tiến triển của bệnh tiểu đường (ký hiệu: `y`) là đại lượng phụ thuộc tuyến tính vào các thông tin sinh lý của bệnh nhân như các thuộc tính đã mô tả ở trên (tuổi, giới tính, chỉ số khối, ... - ký hiệu: `x1, x2, .. x_n`) : \n",
    "\n",
    "`y = w0 + w1*x1 + w2*x2 + ... + w_n*x_n`\n",
    "\n",
    "Mục tiêu: Tìm được bộ trọng số `[w0, w1, ... w_n]` biểu diễn mối quan hệ này. "
   ]
  },
  {
   "cell_type": "markdown",
   "metadata": {},
   "source": [
    "# Thư viện sử dụng \n",
    "\n",
    "- matplotlib: phục vụ vẽ các đồ thị \n",
    "- numpy: tính toán các phép biến đổi trên ma trận / vector \n",
    "- math: thực hiện một số hàm tính toán \n",
    "- pandas: phục vụ chuyển đổi trên dữ liệu dạng bảng \n",
    "- scikit-learn: (sklearn) thư viện hỗ trợ xây dựng các mô hình học máy, các hàm training và testing. \n"
   ]
  },
  {
   "cell_type": "code",
   "execution_count": 3,
   "metadata": {},
   "outputs": [
    {
     "name": "stdout",
     "output_type": "stream",
     "text": [
      "Requirement already satisfied: pandas in c:\\users\\linhvn\\miniconda3\\lib\\site-packages (1.2.3)\n",
      "Requirement already satisfied: python-dateutil>=2.7.3 in c:\\users\\linhvn\\miniconda3\\lib\\site-packages (from pandas) (2.8.1)\n",
      "Requirement already satisfied: numpy>=1.16.5 in c:\\users\\linhvn\\miniconda3\\lib\\site-packages (from pandas) (1.20.1)\n",
      "Requirement already satisfied: pytz>=2017.3 in c:\\users\\linhvn\\miniconda3\\lib\\site-packages (from pandas) (2021.1)\n",
      "Requirement already satisfied: six>=1.5 in c:\\users\\linhvn\\miniconda3\\lib\\site-packages (from python-dateutil>=2.7.3->pandas) (1.15.0)\n"
     ]
    }
   ],
   "source": [
    "!pip install pandas"
   ]
  },
  {
   "cell_type": "code",
   "execution_count": 1,
   "metadata": {},
   "outputs": [],
   "source": [
    "import matplotlib.pyplot as plt\n",
    "import numpy as np\n",
    "import pandas as pd \n",
    "import math \n",
    "\n",
    "from sklearn import datasets, linear_model\n",
    "from sklearn.metrics import mean_squared_error, r2_score\n"
   ]
  },
  {
   "cell_type": "markdown",
   "metadata": {},
   "source": [
    "# Đọc dữ liệu \n",
    "\n",
    "Dữ liệu về bệnh tiểu đường được hỗ trợ bởi sklearn, đọc dữ liệu thông qua hàm `datasets.load_diabetes()` \n",
    "\n",
    "Xem thêm các bộ dữ liệu khác tại https://scikit-learn.org/stable/datasets/index.html#toy-datasets.\n",
    "https://scikit-learn.org/stable/datasets/toy_dataset.html\n",
    "\n",
    "Dữ liệu nhận về ở dạng object với các thành phần thuộc tính:"
   ]
  },
  {
   "cell_type": "markdown",
   "metadata": {},
   "source": [
    "- data: ma trận 2 chiều (442x10) - các thông tin bệnh nhân được chuẩn hoá về dạng số thực. \n",
    "- target: mảng các số thực (442,) - chỉ số tiến triển của bệnh tiểu đường. "
   ]
  },
  {
   "cell_type": "code",
   "execution_count": 2,
   "metadata": {
    "scrolled": true
   },
   "outputs": [
    {
     "name": "stdout",
     "output_type": "stream",
     "text": [
      "Số chiều dữ liệu input:  (442, 10)\n",
      "Kiểu dữ liệu input:  <class 'numpy.ndarray'>\n",
      "Số chiều dữ liệu target:  (442,)\n",
      "Kiểu dữ liệu target:  <class 'numpy.ndarray'>\n",
      "\n",
      "5 mẫu dữ liệu đầu tiên:\n",
      "input:  [[ 0.03807591  0.05068012  0.06169621  0.02187235 -0.0442235  -0.03482076\n",
      "  -0.04340085 -0.00259226  0.01990842 -0.01764613]\n",
      " [-0.00188202 -0.04464164 -0.05147406 -0.02632783 -0.00844872 -0.01916334\n",
      "   0.07441156 -0.03949338 -0.06832974 -0.09220405]\n",
      " [ 0.08529891  0.05068012  0.04445121 -0.00567061 -0.04559945 -0.03419447\n",
      "  -0.03235593 -0.00259226  0.00286377 -0.02593034]\n",
      " [-0.08906294 -0.04464164 -0.01159501 -0.03665645  0.01219057  0.02499059\n",
      "  -0.03603757  0.03430886  0.02269202 -0.00936191]\n",
      " [ 0.00538306 -0.04464164 -0.03638469  0.02187235  0.00393485  0.01559614\n",
      "   0.00814208 -0.00259226 -0.03199144 -0.04664087]]\n",
      "target:  [151.  75. 141. 206. 135.]\n"
     ]
    }
   ],
   "source": [
    "# lay du lieu diabetes - du lieu ve benh tieu duong\n",
    "diabetes = datasets.load_diabetes()\n",
    "print(\"Số chiều dữ liệu input: \", diabetes.data.shape)\n",
    "print(\"Kiểu dữ liệu input: \", type(diabetes.data))\n",
    "print(\"Số chiều dữ liệu target: \", diabetes.target.shape)\n",
    "print(\"Kiểu dữ liệu target: \", type(diabetes.target))\n",
    "print()\n",
    "\n",
    "print(\"5 mẫu dữ liệu đầu tiên:\")\n",
    "print(\"input: \", diabetes.data[:5])\n",
    "print(\"target: \",diabetes.target[:5])"
   ]
  },
  {
   "cell_type": "markdown",
   "metadata": {},
   "source": [
    "**Chia dữ liệu làm 2 phần training 362 mẫu và testing 80 mẫu** "
   ]
  },
  {
   "cell_type": "code",
   "execution_count": 3,
   "metadata": {},
   "outputs": [],
   "source": [
    "# cat nho du lieu, lay 1 phan cho qua trinh thu nghiem,\n",
    "# chia train test cac mau du lieu\n",
    "# diabetes_X = diabetes.data[:, np.newaxis, 2]\n",
    "diabetes_X = diabetes.data\n",
    "\n",
    "diabetes_X_train = diabetes_X[:361]\n",
    "diabetes_y_train = diabetes.target[:361]\n",
    "\n",
    "diabetes_X_test = diabetes_X[362:]\n",
    "diabetes_y_test = diabetes.target[362:]"
   ]
  },
  {
   "cell_type": "markdown",
   "metadata": {},
   "source": [
    "# Xây dựng mô hình Regression sử dụng Sklearn\n",
    "\n",
    "Thử nghiệm xây dựng mô hình hồi quy (Linear Regression / Ridge Regression) để học được bộ tham số"
   ]
  },
  {
   "cell_type": "markdown",
   "metadata": {},
   "source": [
    "- [Linear Regression](https://scikit-learn.org/stable/modules/generated/sklearn.linear_model.LinearRegression.html) `linear_model.LinearRegression()`\n",
    "- [Ridge Regression](https://scikit-learn.org/stable/modules/generated/sklearn.linear_model.Ridge.html#sklearn.linear_model.Ridge) `linear_model.Ridge()`"
   ]
  },
  {
   "cell_type": "code",
   "execution_count": 4,
   "metadata": {},
   "outputs": [],
   "source": [
    "# Xay dung model su dung sklearn\n",
    "regr = linear_model.LinearRegression()\n"
   ]
  },
  {
   "cell_type": "code",
   "execution_count": 5,
   "metadata": {},
   "outputs": [],
   "source": [
    "##### exercise #####\n",
    "# Yêu cầu: Cài đặt mô hình Ridge Regression với alpha = 0.1\n",
    "# Gợi ý: xem hướng dẫn tại https://scikit-learn.org/stable/modules/generated/sklearn.linear_model.Ridge.html\n",
    "######################\n",
    "\n",
    "regr_ridge = linear_model.Ridge(alpha=0.1) "
   ]
  },
  {
   "cell_type": "markdown",
   "metadata": {},
   "source": [
    "# Training mô hình\n",
    "\n",
    "Sử dụng Dữ liệu đã được chia ở bước trước đó để thực hiện training model. \n",
    "\n",
    "=> Tìm được bộ trọng số `[w0, w1, ... w_n]`"
   ]
  },
  {
   "cell_type": "code",
   "execution_count": 6,
   "metadata": {},
   "outputs": [
    {
     "name": "stdout",
     "output_type": "stream",
     "text": [
      "[w1, ... w_n] =  [-1.40025874e-02 -2.49785764e+02  5.18797590e+02  2.97225806e+02\n",
      " -6.39824326e+02  3.56346572e+02  2.77927304e+01  1.46967414e+02\n",
      "  6.90487255e+02  1.05714417e+02]\n",
      "w0 =  152.56042805095646\n"
     ]
    }
   ],
   "source": [
    "# Huấn luyện mô hình Linear Regression\n",
    "regr.fit(diabetes_X_train, diabetes_y_train)\n",
    "print(\"[w1, ... w_n] = \", regr.coef_)\n",
    "print(\"w0 = \", regr.intercept_)"
   ]
  },
  {
   "cell_type": "code",
   "execution_count": 7,
   "metadata": {},
   "outputs": [
    {
     "name": "stdout",
     "output_type": "stream",
     "text": [
      "[w1, ... w_n] =  [  10.51377484 -215.2216077   477.04290225  275.19004043  -64.84582447\n",
      "  -82.84560954 -194.22489474  112.99649773  427.19288067  121.182733  ]\n",
      "w0 =  152.57401459390456\n"
     ]
    }
   ],
   "source": [
    "##### exercise #####\n",
    "# Yêu cầu: Huấn luyện mô hình Ridge Regression và in ra các trọng số w0, w1, ...,wn của mô hình\n",
    "# Gợi ý: xem hướng dẫn tại https://scikit-learn.org/stable/modules/generated/sklearn.linear_model.Ridge.html\n",
    "######################\n",
    "regr_ridge.fit(diabetes_X_train, diabetes_y_train)\n",
    "print(\"[w1, ... w_n] = \", regr_ridge.coef_)\n",
    "print(\"w0 = \", regr_ridge.intercept_)"
   ]
  },
  {
   "cell_type": "code",
   "execution_count": 8,
   "metadata": {},
   "outputs": [
    {
     "name": "stdout",
     "output_type": "stream",
     "text": [
      "Gia tri true:  321.0\n",
      "Gia tri du doan cho mô hình linear regression:  [234.36115876]\n",
      "Gia tri du doan cho mô hình linear regression theo công thức: 234.3611587552754\n",
      "Gia tri du doan cho mô hình ridge regression:  [226.73584699]\n",
      "Gia tri du doan cho mô hình ridge regression theo công thức: 226.73584698688643\n"
     ]
    }
   ],
   "source": [
    "##### exercise #####\n",
    "# Yêu cầu: tính giá trị dự đoán của mô hình trên mẫu đầu tiên của tập test và so sánh với kết quả của thư viện\n",
    "# Gợi ý: sử dụng công thức y = w0 + w1*x1 + w1*x2 + ... + w_n*x_n\n",
    "######################\n",
    "#Dự đoán thử cho trường hợp đầu tiên\n",
    "\n",
    "#Giá trị đúng\n",
    "print(\"Gia tri true: \", diabetes_y_test[0])\n",
    "\n",
    "#Dự đoán cho mô hình Linear Regression sử dụng hàm dự đoán của thư viện\n",
    "y_pred_linear = regr.predict(diabetes_X_test[0:1])     \n",
    "print(\"Gia tri du doan cho mô hình linear regression: \", y_pred_linear)\n",
    "\n",
    "#Viết code tính và in kết quả dự đoán cho mô hình Linear Regression sử dụng công thức tại đây\n",
    "y_pred_linear_0 = sum(regr.coef_*diabetes_X_test[0])+regr.intercept_ \n",
    "print(\"Gia tri du doan cho mô hình linear regression theo công thức:\", y_pred_linear_0)\n",
    "\n",
    "#Dự đoán cho mô hình Ridge Regression sử dụng hàm dự đoán của thư viện\n",
    "y_pred_ridge = regr_ridge.predict(diabetes_X_test[0:1])  \n",
    "print(\"Gia tri du doan cho mô hình ridge regression: \", y_pred_ridge)\n",
    "\n",
    "#Viết code tính và in kết quả dự đoán cho mô hình Ridge Regression sử dụng công thức tại đây\n",
    "y_pred_ridge_0 = sum(regr_ridge.coef_*diabetes_X_test[0])+regr_ridge.intercept_ \n",
    "print(\"Gia tri du doan cho mô hình ridge regression theo công thức:\", y_pred_ridge_0)\n",
    "\n",
    "######################"
   ]
  },
  {
   "cell_type": "markdown",
   "metadata": {},
   "source": [
    "# Dự đoán các mẫu dữ liệu trong tập test "
   ]
  },
  {
   "cell_type": "code",
   "execution_count": 9,
   "metadata": {},
   "outputs": [
    {
     "data": {
      "text/html": [
       "<div>\n",
       "<style scoped>\n",
       "    .dataframe tbody tr th:only-of-type {\n",
       "        vertical-align: middle;\n",
       "    }\n",
       "\n",
       "    .dataframe tbody tr th {\n",
       "        vertical-align: top;\n",
       "    }\n",
       "\n",
       "    .dataframe thead th {\n",
       "        text-align: right;\n",
       "    }\n",
       "</style>\n",
       "<table border=\"1\" class=\"dataframe\">\n",
       "  <thead>\n",
       "    <tr style=\"text-align: right;\">\n",
       "      <th></th>\n",
       "      <th>Thực tế</th>\n",
       "      <th>Dự đoán</th>\n",
       "      <th>Lệch</th>\n",
       "    </tr>\n",
       "  </thead>\n",
       "  <tbody>\n",
       "    <tr>\n",
       "      <th>0</th>\n",
       "      <td>321.0</td>\n",
       "      <td>234.361159</td>\n",
       "      <td>86.638841</td>\n",
       "    </tr>\n",
       "    <tr>\n",
       "      <th>1</th>\n",
       "      <td>58.0</td>\n",
       "      <td>163.998469</td>\n",
       "      <td>105.998469</td>\n",
       "    </tr>\n",
       "    <tr>\n",
       "      <th>2</th>\n",
       "      <td>262.0</td>\n",
       "      <td>163.521039</td>\n",
       "      <td>98.478961</td>\n",
       "    </tr>\n",
       "    <tr>\n",
       "      <th>3</th>\n",
       "      <td>206.0</td>\n",
       "      <td>167.189777</td>\n",
       "      <td>38.810223</td>\n",
       "    </tr>\n",
       "    <tr>\n",
       "      <th>4</th>\n",
       "      <td>233.0</td>\n",
       "      <td>254.808171</td>\n",
       "      <td>21.808171</td>\n",
       "    </tr>\n",
       "    <tr>\n",
       "      <th>...</th>\n",
       "      <td>...</td>\n",
       "      <td>...</td>\n",
       "      <td>...</td>\n",
       "    </tr>\n",
       "    <tr>\n",
       "      <th>75</th>\n",
       "      <td>178.0</td>\n",
       "      <td>191.711158</td>\n",
       "      <td>13.711158</td>\n",
       "    </tr>\n",
       "    <tr>\n",
       "      <th>76</th>\n",
       "      <td>104.0</td>\n",
       "      <td>104.622355</td>\n",
       "      <td>0.622355</td>\n",
       "    </tr>\n",
       "    <tr>\n",
       "      <th>77</th>\n",
       "      <td>132.0</td>\n",
       "      <td>122.691780</td>\n",
       "      <td>9.308220</td>\n",
       "    </tr>\n",
       "    <tr>\n",
       "      <th>78</th>\n",
       "      <td>220.0</td>\n",
       "      <td>210.455070</td>\n",
       "      <td>9.544930</td>\n",
       "    </tr>\n",
       "    <tr>\n",
       "      <th>79</th>\n",
       "      <td>57.0</td>\n",
       "      <td>54.393113</td>\n",
       "      <td>2.606887</td>\n",
       "    </tr>\n",
       "  </tbody>\n",
       "</table>\n",
       "<p>80 rows × 3 columns</p>\n",
       "</div>"
      ],
      "text/plain": [
       "    Thực tế     Dự đoán        Lệch\n",
       "0     321.0  234.361159   86.638841\n",
       "1      58.0  163.998469  105.998469\n",
       "2     262.0  163.521039   98.478961\n",
       "3     206.0  167.189777   38.810223\n",
       "4     233.0  254.808171   21.808171\n",
       "..      ...         ...         ...\n",
       "75    178.0  191.711158   13.711158\n",
       "76    104.0  104.622355    0.622355\n",
       "77    132.0  122.691780    9.308220\n",
       "78    220.0  210.455070    9.544930\n",
       "79     57.0   54.393113    2.606887\n",
       "\n",
       "[80 rows x 3 columns]"
      ]
     },
     "execution_count": 9,
     "metadata": {},
     "output_type": "execute_result"
    }
   ],
   "source": [
    "# Thực hiện suy diễn sau khi huấn luyện\n",
    "diabetes_y_pred = regr.predict(diabetes_X_test)\n",
    "pd.DataFrame(data=np.array([diabetes_y_test, diabetes_y_pred,\n",
    "                            abs(diabetes_y_test - diabetes_y_pred)]).T,\n",
    "             columns=[\"Thực tế\", \"Dự đoán\", \"Lệch\"])  \n",
    "\n",
    "# pd.DataFrame(data=np.array([diabetes_y_test, diabetes_y_pred,\n",
    "#                             abs(diabetes_y_test - diabetes_y_pred)]), \n",
    "#              index=[\"Thực tế\", \"Dự đoán\", \"Lệch\"])  "
   ]
  },
  {
   "cell_type": "markdown",
   "metadata": {},
   "source": [
    "# Đánh giá \n",
    "\n",
    "Sử dụng độ đo RMSE tính căn bậc 2 của trung bình bình phương lỗi. \n",
    "> $\\text{RMSE}(y, \\hat{y}) = \\sqrt{\\frac{1}{n_\\text{samples}} \\sum_{i=0}^{n_\\text{samples} - 1} (y_i - \\hat{y}_i)^2}.$\n",
    "\n",
    "- Lỗi càng nhỏ càng thể hiện mô hình có khả năng học và dự đoán hiệu quả \n",
    "- Như thế nào là nhỏ ? "
   ]
  },
  {
   "cell_type": "code",
   "execution_count": 10,
   "metadata": {},
   "outputs": [
    {
     "data": {
      "text/plain": [
       "51.539230657101335"
      ]
     },
     "execution_count": 10,
     "metadata": {},
     "output_type": "execute_result"
    }
   ],
   "source": [
    "# Giá trị RMSE của mô hình Linear Regression\n",
    "math.sqrt(mean_squared_error(diabetes_y_test, diabetes_y_pred))"
   ]
  },
  {
   "cell_type": "code",
   "execution_count": 11,
   "metadata": {},
   "outputs": [
    {
     "name": "stdout",
     "output_type": "stream",
     "text": [
      "Lambda = 0; RMSE = 51.539230657101385\n",
      "Lambda = 0.0001; RMSE = 51.54637136803664\n",
      "Lambda = 0.01; RMSE = 51.888661243305464\n",
      "Lambda = 0.04; RMSE = 52.112100345430115\n",
      "Lambda = 0.05; RMSE = 52.15252744411004\n",
      "Lambda = 0.06; RMSE = 52.19075386078626\n",
      "Lambda = 0.1; RMSE = 52.34756662293576\n",
      "Lambda = 0.5; RMSE = 54.61325570600304\n",
      "Lambda = 1; RMSE = 57.38250521480497\n",
      "Lambda = 5; RMSE = 67.24129454526758\n",
      "Lambda = 10; RMSE = 71.18735549546312\n",
      "Lambda = 20; RMSE = 74.05734361149904\n"
     ]
    }
   ],
   "source": [
    "##### exercise #####\n",
    "# Yêu cầu: đánh giá độ đo RMSE của mô hình Ridge Regression với các hằng số phạt khác nhau, in ra kết quả.\n",
    "# Gợi ý: Các bước làm:\n",
    "# - Lặp theo danh sách các hằng số phạt\n",
    "# - Dựng các mô hình Ridge Regression với mỗi hằng số phạt tương ứng\n",
    "# - Huấn luyện các mô hình và dự đoán \n",
    "# - Tính RMSE tương ứng\n",
    "######################\n",
    "#Các giá trị hằng số phạt cho trước\n",
    "_lambda = [0, 0.0001,0.01, 0.04, 0.05, 0.06, 0.1, 0.5, 1, 5, 10, 20]\n",
    "\n",
    "for a_lambda in _lambda:\n",
    "    regression_regr = linear_model.Ridge(alpha = a_lambda,max_iter=1000, tol=1e-4) \n",
    "    regression_regr.fit(diabetes_X_train,diabetes_y_train)\n",
    "    diabetes_y_pred_redge = regression_regr.predict(diabetes_X_test)\n",
    "    print('Lambda = ' + str(a_lambda) + '; RMSE = ' +str(math.sqrt(mean_squared_error(diabetes_y_test, diabetes_y_pred_redge))))"
   ]
  },
  {
   "cell_type": "code",
   "execution_count": 16,
   "metadata": {},
   "outputs": [
    {
     "name": "stdout",
     "output_type": "stream",
     "text": [
      "Collecting seaborn\n",
      "  Downloading seaborn-0.11.1-py3-none-any.whl (285 kB)\n",
      "Requirement already satisfied: numpy>=1.15 in c:\\users\\linhvn\\miniconda3\\lib\\site-packages (from seaborn) (1.20.1)\n",
      "Requirement already satisfied: scipy>=1.0 in c:\\users\\linhvn\\miniconda3\\lib\\site-packages (from seaborn) (1.6.1)\n",
      "Requirement already satisfied: pandas>=0.23 in c:\\users\\linhvn\\miniconda3\\lib\\site-packages (from seaborn) (1.2.3)\n",
      "Requirement already satisfied: matplotlib>=2.2 in c:\\users\\linhvn\\miniconda3\\lib\\site-packages (from seaborn) (3.3.4)\n",
      "Requirement already satisfied: pytz>=2017.3 in c:\\users\\linhvn\\miniconda3\\lib\\site-packages (from pandas>=0.23->seaborn) (2021.1)\n",
      "Requirement already satisfied: python-dateutil>=2.7.3 in c:\\users\\linhvn\\miniconda3\\lib\\site-packages (from pandas>=0.23->seaborn) (2.8.1)\n",
      "Requirement already satisfied: cycler>=0.10 in c:\\users\\linhvn\\miniconda3\\lib\\site-packages (from matplotlib>=2.2->seaborn) (0.10.0)\n",
      "Requirement already satisfied: pillow>=6.2.0 in c:\\users\\linhvn\\miniconda3\\lib\\site-packages (from matplotlib>=2.2->seaborn) (8.1.1)\n",
      "Requirement already satisfied: kiwisolver>=1.0.1 in c:\\users\\linhvn\\miniconda3\\lib\\site-packages (from matplotlib>=2.2->seaborn) (1.3.1)\n",
      "Requirement already satisfied: pyparsing!=2.0.4,!=2.1.2,!=2.1.6,>=2.0.3 in c:\\users\\linhvn\\miniconda3\\lib\\site-packages (from matplotlib>=2.2->seaborn) (2.4.7)\n",
      "Requirement already satisfied: six>=1.5 in c:\\users\\linhvn\\miniconda3\\lib\\site-packages (from python-dateutil>=2.7.3->pandas>=0.23->seaborn) (1.15.0)\n",
      "Installing collected packages: seaborn\n",
      "Successfully installed seaborn-0.11.1\n"
     ]
    }
   ],
   "source": [
    "!pip install seaborn"
   ]
  },
  {
   "cell_type": "markdown",
   "metadata": {},
   "source": [
    "## Vẽ biểu đồ phân phối cho chỉ số thực tế"
   ]
  },
  {
   "cell_type": "code",
   "execution_count": 12,
   "metadata": {},
   "outputs": [
    {
     "name": "stderr",
     "output_type": "stream",
     "text": [
      "D:\\ProgramingStudy\\Python\\Anaconda\\lib\\site-packages\\seaborn\\distributions.py:2557: FutureWarning: `distplot` is a deprecated function and will be removed in a future version. Please adapt your code to use either `displot` (a figure-level function with similar flexibility) or `histplot` (an axes-level function for histograms).\n",
      "  warnings.warn(msg, FutureWarning)\n"
     ]
    },
    {
     "data": {
      "text/html": [
       "<div>\n",
       "<style scoped>\n",
       "    .dataframe tbody tr th:only-of-type {\n",
       "        vertical-align: middle;\n",
       "    }\n",
       "\n",
       "    .dataframe tbody tr th {\n",
       "        vertical-align: top;\n",
       "    }\n",
       "\n",
       "    .dataframe thead th {\n",
       "        text-align: right;\n",
       "    }\n",
       "</style>\n",
       "<table border=\"1\" class=\"dataframe\">\n",
       "  <thead>\n",
       "    <tr style=\"text-align: right;\">\n",
       "      <th></th>\n",
       "      <th>values</th>\n",
       "    </tr>\n",
       "  </thead>\n",
       "  <tbody>\n",
       "    <tr>\n",
       "      <th>count</th>\n",
       "      <td>80.00000</td>\n",
       "    </tr>\n",
       "    <tr>\n",
       "      <th>mean</th>\n",
       "      <td>152.38750</td>\n",
       "    </tr>\n",
       "    <tr>\n",
       "      <th>std</th>\n",
       "      <td>78.46994</td>\n",
       "    </tr>\n",
       "    <tr>\n",
       "      <th>min</th>\n",
       "      <td>40.00000</td>\n",
       "    </tr>\n",
       "    <tr>\n",
       "      <th>25%</th>\n",
       "      <td>72.00000</td>\n",
       "    </tr>\n",
       "    <tr>\n",
       "      <th>50%</th>\n",
       "      <td>140.00000</td>\n",
       "    </tr>\n",
       "    <tr>\n",
       "      <th>75%</th>\n",
       "      <td>217.50000</td>\n",
       "    </tr>\n",
       "    <tr>\n",
       "      <th>max</th>\n",
       "      <td>321.00000</td>\n",
       "    </tr>\n",
       "  </tbody>\n",
       "</table>\n",
       "</div>"
      ],
      "text/plain": [
       "          values\n",
       "count   80.00000\n",
       "mean   152.38750\n",
       "std     78.46994\n",
       "min     40.00000\n",
       "25%     72.00000\n",
       "50%    140.00000\n",
       "75%    217.50000\n",
       "max    321.00000"
      ]
     },
     "execution_count": 12,
     "metadata": {},
     "output_type": "execute_result"
    },
    {
     "data": {
      "image/png": "[encoded data removed]",
      "text/plain": [
       "<Figure size 432x288 with 1 Axes>"
      ]
     },
     "metadata": {
      "needs_background": "light"
     },
     "output_type": "display_data"
    }
   ],
   "source": [
    "import seaborn as sns\n",
    "sns.distplot(diabetes_y_test)\n",
    "pd.DataFrame(data=diabetes_y_test, columns=[\"values\"]).describe()"
   ]
  },
  {
   "cell_type": "markdown",
   "metadata": {
    "jupyter": {
     "outputs_hidden": true
    }
   },
   "source": [
    "## Vẽ biểu đồ phân phối cho chỉ số dự đoán của mô hình linear regression"
   ]
  },
  {
   "cell_type": "code",
   "execution_count": 13,
   "metadata": {},
   "outputs": [
    {
     "name": "stderr",
     "output_type": "stream",
     "text": [
      "D:\\ProgramingStudy\\Python\\Anaconda\\lib\\site-packages\\seaborn\\distributions.py:2557: FutureWarning: `distplot` is a deprecated function and will be removed in a future version. Please adapt your code to use either `displot` (a figure-level function with similar flexibility) or `histplot` (an axes-level function for histograms).\n",
      "  warnings.warn(msg, FutureWarning)\n"
     ]
    },
    {
     "data": {
      "text/html": [
       "<div>\n",
       "<style scoped>\n",
       "    .dataframe tbody tr th:only-of-type {\n",
       "        vertical-align: middle;\n",
       "    }\n",
       "\n",
       "    .dataframe tbody tr th {\n",
       "        vertical-align: top;\n",
       "    }\n",
       "\n",
       "    .dataframe thead th {\n",
       "        text-align: right;\n",
       "    }\n",
       "</style>\n",
       "<table border=\"1\" class=\"dataframe\">\n",
       "  <thead>\n",
       "    <tr style=\"text-align: right;\">\n",
       "      <th></th>\n",
       "      <th>values</th>\n",
       "    </tr>\n",
       "  </thead>\n",
       "  <tbody>\n",
       "    <tr>\n",
       "      <th>count</th>\n",
       "      <td>80.000000</td>\n",
       "    </tr>\n",
       "    <tr>\n",
       "      <th>mean</th>\n",
       "      <td>155.501064</td>\n",
       "    </tr>\n",
       "    <tr>\n",
       "      <th>std</th>\n",
       "      <td>57.511992</td>\n",
       "    </tr>\n",
       "    <tr>\n",
       "      <th>min</th>\n",
       "      <td>49.190655</td>\n",
       "    </tr>\n",
       "    <tr>\n",
       "      <th>25%</th>\n",
       "      <td>112.400481</td>\n",
       "    </tr>\n",
       "    <tr>\n",
       "      <th>50%</th>\n",
       "      <td>161.144060</td>\n",
       "    </tr>\n",
       "    <tr>\n",
       "      <th>75%</th>\n",
       "      <td>191.047286</td>\n",
       "    </tr>\n",
       "    <tr>\n",
       "      <th>max</th>\n",
       "      <td>279.600249</td>\n",
       "    </tr>\n",
       "  </tbody>\n",
       "</table>\n",
       "</div>"
      ],
      "text/plain": [
       "           values\n",
       "count   80.000000\n",
       "mean   155.501064\n",
       "std     57.511992\n",
       "min     49.190655\n",
       "25%    112.400481\n",
       "50%    161.144060\n",
       "75%    191.047286\n",
       "max    279.600249"
      ]
     },
     "execution_count": 13,
     "metadata": {},
     "output_type": "execute_result"
    },
    {
     "data": {
      "image/png": "[encoded data removed]",
      "text/plain": [
       "<Figure size 432x288 with 1 Axes>"
      ]
     },
     "metadata": {
      "needs_background": "light"
     },
     "output_type": "display_data"
    }
   ],
   "source": [
    "##### exercise #####\n",
    "# Yêu cầu: Tính các chỉ số thống kê và vẽ biểu đồ phân phối của chỉ số dự đoán bằng mô hình Linear Regression, quan sát và nhận xét\n",
    "# Gợi ý: sử dụng sns và pd\n",
    "######################\n",
    "sns.distplot(diabetes_y_pred)\n",
    "pd.DataFrame(data=diabetes_y_pred, columns=[\"values\"]).describe()"
   ]
  },
  {
   "cell_type": "markdown",
   "metadata": {},
   "source": [
    "## Vẽ biểu đồ so sánh kết quả dự đoán và thực tế"
   ]
  },
  {
   "cell_type": "code",
   "execution_count": 33,
   "metadata": {},
   "outputs": [
    {
     "data": {
      "image/png": "[encoded data removed]",
      "text/plain": [
       "<Figure size 864x576 with 1 Axes>"
      ]
     },
     "metadata": {
      "needs_background": "light"
     },
     "output_type": "display_data"
    }
   ],
   "source": [
    "import matplotlib.pyplot as plt\n",
    "\n",
    "plt.figure(figsize=(12,8))\n",
    " \n",
    "plt.plot(diabetes_y_test)\n",
    "plt.plot(diabetes_y_pred)\n",
    " \n",
    "plt.xlabel('Patients')\n",
    "\n",
    "plt.ylabel('Index')\n",
    " \n",
    " \n",
    "# function to show the plot\n",
    "plt.show()"
   ]
  },
  {
   "cell_type": "code",
   "execution_count": null,
   "metadata": {},
   "outputs": [],
   "source": []
  }
 ],
 "metadata": {
  "kernelspec": {
   "display_name": "Python 3",
   "language": "python",
   "name": "python3"
  },
  "language_info": {
   "codemirror_mode": {
    "name": "ipython",
    "version": 3
   },
   "file_extension": ".py",
   "mimetype": "text/x-python",
   "name": "python",
   "nbconvert_exporter": "python",
   "pygments_lexer": "ipython3",
   "version": "3.8.8"
  }
 },
 "nbformat": 4,
 "nbformat_minor": 4
}
